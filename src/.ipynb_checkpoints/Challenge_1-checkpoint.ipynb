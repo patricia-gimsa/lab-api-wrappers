{
 "cells": [
  {
   "cell_type": "markdown",
   "id": "bd0a3905-b346-43d5-9791-d3869299eb9d",
   "metadata": {},
   "source": [
    "# API wrappers"
   ]
  },
  {
   "cell_type": "markdown",
   "id": "327b4075-5374-4ecf-b8c5-c106d20d80e1",
   "metadata": {},
   "source": [
    "The OpenWeatherMap offers REST endpoints for querying current weather, forecasts, historical data, etc. However, accessing this data directly via the REST API requires handling multiple API calls, query parameters, and response parsing. The pyowm library abstracts these complexities and provides useful built-in functionalities."
   ]
  },
  {
   "cell_type": "markdown",
   "id": "1d731d49-fd79-44c8-8f72-68194c99fec0",
   "metadata": {},
   "source": [
    "After signing in to OpenWeatherMap retrieve your api key at https://home.openweathermap.org/api_keys\n",
    "\n",
    "You will also need to install the pyowm package: pip install pyowm "
   ]
  },
  {
   "cell_type": "code",
   "execution_count": 6,
   "id": "63b327b1-338b-4b14-a5b5-1bd8741da64b",
   "metadata": {},
   "outputs": [
    {
     "name": "stdout",
     "output_type": "stream",
     "text": [
      "API Key loaded: 2a2b0...\n"
     ]
    }
   ],
   "source": [
    "import requests\n",
    "import pyowm\n",
    "import json\n",
    "\n",
    "# Load .env and get API key securely\n",
    "from dotenv import load_dotenv\n",
    "import os\n",
    "\n",
    "load_dotenv()\n",
    "api_key = os.getenv(\"OWM_API_KEY\")\n",
    "\n",
    "# Check it worked\n",
    "print(\"API Key loaded:\", api_key[:5] + \"...\" if api_key else \"NOT FOUND\")\n"
   ]
  },
  {
   "cell_type": "markdown",
   "id": "f73d3029-c6a6-43b9-81a9-0e81c13bdf09",
   "metadata": {},
   "source": [
    "## use case 1: managing API keys\n",
    "\n",
    "In a raw rest API call you always have to manage credentials in each individual call. Wrappers usually store and manage the authentication for you"
   ]
  },
  {
   "cell_type": "code",
   "execution_count": 20,
   "id": "afbcdf71-845e-4aae-b8cc-8963745f7d4b",
   "metadata": {},
   "outputs": [
    {
     "data": {
      "text/plain": [
       "{'coord': {'lon': -0.1257, 'lat': 51.5085},\n",
       " 'weather': [{'id': 804,\n",
       "   'main': 'Clouds',\n",
       "   'description': 'overcast clouds',\n",
       "   'icon': '04d'}],\n",
       " 'base': 'stations',\n",
       " 'main': {'temp': 288.34,\n",
       "  'feels_like': 287.17,\n",
       "  'temp_min': 287.01,\n",
       "  'temp_max': 289.36,\n",
       "  'pressure': 1007,\n",
       "  'humidity': 48,\n",
       "  'sea_level': 1007,\n",
       "  'grnd_level': 1003},\n",
       " 'visibility': 10000,\n",
       " 'wind': {'speed': 7.72, 'deg': 70, 'gust': 12.86},\n",
       " 'clouds': {'all': 92},\n",
       " 'dt': 1745079366,\n",
       " 'sys': {'type': 2,\n",
       "  'id': 268730,\n",
       "  'country': 'GB',\n",
       "  'sunrise': 1745038553,\n",
       "  'sunset': 1745089374},\n",
       " 'timezone': 3600,\n",
       " 'id': 2643743,\n",
       " 'name': 'London',\n",
       " 'cod': 200}"
      ]
     },
     "execution_count": 20,
     "metadata": {},
     "output_type": "execute_result"
    }
   ],
   "source": [
    "#You can get current weather data by making a GET request to an endpoint like:\n",
    "\n",
    "params = {\n",
    "    'appid' : api_key\n",
    "}\n",
    "\n",
    "response = requests.get('https://api.openweathermap.org/data/2.5/weather?q=London', params = params)\n",
    "\n",
    "json.loads(response.text)\n",
    "\n",
    "#but for every call you make using GET from now on you do need to add the parameters, since the raw API does not manage authentication for you"
   ]
  },
  {
   "cell_type": "markdown",
   "id": "b82c585b-fd83-4f59-9d46-14225f3e5037",
   "metadata": {},
   "source": [
    "Most wrappers (pyowm included) include some way of initializing a session with the authentication key that you then don't need to type again.\n",
    "\n",
    "Initialize pyowm with the default configuration. Thenopen the weather manager\n",
    "\n",
    "Check out a snippet here: https://pyowm.readthedocs.io/en/latest/v3/code-recipes.html#weather_data"
   ]
  },
  {
   "cell_type": "code",
   "execution_count": 8,
   "id": "f376d466-5a69-4a47-b35d-1870cbef61ff",
   "metadata": {},
   "outputs": [
    {
     "name": "stdout",
     "output_type": "stream",
     "text": [
      "Weather status: overcast clouds\n"
     ]
    }
   ],
   "source": [
    "# Import the OWM wrapper and set up the API key\n",
    "from pyowm.owm import OWM\n",
    "\n",
    "# Initialize the OWM object with your API key\n",
    "owm = OWM(api_key)\n",
    "\n",
    "# Create a weather manager to access weather data\n",
    "mgr = owm.weather_manager()\n",
    "\n",
    "# Request current weather for London\n",
    "observation = mgr.weather_at_place(\"London,GB\")\n",
    "weather = observation.weather\n",
    "\n",
    "# Print weather status\n",
    "print(\"Weather status:\", weather.detailed_status)"
   ]
  },
  {
   "cell_type": "markdown",
   "id": "840060e4-d3de-4b96-bb03-5bce02003f1d",
   "metadata": {},
   "source": [
    "## use case 2: Simplified calls\n",
    "\n",
    "With the raw REST API, you'd have to build a URL manually, send the request, and parse the JSON response to get the current weather."
   ]
  },
  {
   "cell_type": "code",
   "execution_count": 11,
   "id": "a2aa8395-0bed-4098-8881-0ffe93541b1f",
   "metadata": {},
   "outputs": [
    {
     "name": "stdout",
     "output_type": "stream",
     "text": [
      "Temperature: 15.43°C, Humidity: 49%, Wind Speed: 7.72 m/s\n"
     ]
    }
   ],
   "source": [
    "city = 'London'\n",
    "url = f'http://api.openweathermap.org/data/2.5/weather?q={city}&units=metric'\n",
    "\n",
    "response = requests.get(url,params= params)\n",
    "data = response.json()\n",
    "temperature = data['main']['temp']\n",
    "humidity = data['main']['humidity']\n",
    "wind_speed = data['wind']['speed']\n",
    "\n",
    "print(f\"Temperature: {temperature}°C, Humidity: {humidity}%, Wind Speed: {wind_speed} m/s\")"
   ]
  },
  {
   "cell_type": "markdown",
   "id": "df5bc6df-bfb2-416d-8d06-3961d3a12234",
   "metadata": {},
   "source": [
    "Get the equivalent call as above for the city of London using the pyowm package"
   ]
  },
  {
   "cell_type": "code",
   "execution_count": 12,
   "id": "d1986770-4628-480b-b587-9ff5c42d301c",
   "metadata": {},
   "outputs": [
    {
     "name": "stdout",
     "output_type": "stream",
     "text": [
      "Temperature: 15.43°C, Humidity: 48%, Wind Speed: 9.26 m/s\n"
     ]
    }
   ],
   "source": [
    "# Import the OWM wrapper and set up the API key\n",
    "from pyowm.owm import OWM\n",
    "\n",
    "# Initialize the OWM object\n",
    "owm = OWM(api_key)\n",
    "\n",
    "# Create the weather manager\n",
    "mgr = owm.weather_manager()\n",
    "\n",
    "# Get the weather observation for London\n",
    "observation = mgr.weather_at_place(\"London,GB\")\n",
    "weather = observation.weather\n",
    "\n",
    "# Extract temperature, humidity and wind speed\n",
    "temperature = weather.temperature('celsius')['temp']\n",
    "humidity = weather.humidity\n",
    "wind_speed = weather.wind()['speed']\n",
    "\n",
    "# Print the results\n",
    "print(f\"Temperature: {temperature}°C, Humidity: {humidity}%, Wind Speed: {wind_speed} m/s\")\n"
   ]
  },
  {
   "cell_type": "markdown",
   "id": "7e7b93b2-c383-4e49-8fce-a0923ac59031",
   "metadata": {},
   "source": [
    "## use case 3: Combining and chaining calls\n",
    "\n",
    "Wrappers often offer methods that make multiple calls to batch requests that make sense to batch. And often they offer methods that make sequences of calls that each returns information necessary to make the next call."
   ]
  },
  {
   "cell_type": "markdown",
   "id": "8f4a6b6c-f397-48ce-a3ef-f88e1fb95eb9",
   "metadata": {},
   "source": [
    "For example, to get a weather forecast for a specific city using the raw API you need to first geocode the city to get its latitude and longitude:"
   ]
  },
  {
   "cell_type": "code",
   "execution_count": 13,
   "id": "d182cf31-80f8-4b61-8de0-897d2d6479d7",
   "metadata": {},
   "outputs": [],
   "source": [
    "city = 'New York'\n",
    "geocode_url = f'http://api.openweathermap.org/data/2.5/weather?q={city}'\n",
    "geocode_response = requests.get(geocode_url,params=params).json()\n",
    "\n",
    "lat = geocode_response['coord']['lat']\n",
    "lon = geocode_response['coord']['lon']"
   ]
  },
  {
   "cell_type": "markdown",
   "id": "547c5deb-1070-4b72-b035-32ea5a615eda",
   "metadata": {},
   "source": [
    "Then, request the weather forecast for that latitude/longitude:"
   ]
  },
  {
   "cell_type": "code",
   "execution_count": 17,
   "id": "03737eff-cbc6-412f-b6a1-03e28b39b1e4",
   "metadata": {},
   "outputs": [
    {
     "name": "stdout",
     "output_type": "stream",
     "text": [
      "Time: 2025-04-19 18:00:00, Temp: 23.96°C\n",
      "Time: 2025-04-19 21:00:00, Temp: 25.15°C\n",
      "Time: 2025-04-20 00:00:00, Temp: 24.53°C\n",
      "Time: 2025-04-20 03:00:00, Temp: 21.58°C\n",
      "Time: 2025-04-20 06:00:00, Temp: 19.50°C\n",
      "Time: 2025-04-20 09:00:00, Temp: 15.61°C\n",
      "Time: 2025-04-20 12:00:00, Temp: 13.48°C\n",
      "Time: 2025-04-20 15:00:00, Temp: 15.01°C\n",
      "Time: 2025-04-20 18:00:00, Temp: 17.83°C\n",
      "Time: 2025-04-20 21:00:00, Temp: 18.55°C\n",
      "Time: 2025-04-21 00:00:00, Temp: 16.47°C\n",
      "Time: 2025-04-21 03:00:00, Temp: 14.08°C\n",
      "Time: 2025-04-21 06:00:00, Temp: 12.61°C\n",
      "Time: 2025-04-21 09:00:00, Temp: 12.09°C\n",
      "Time: 2025-04-21 12:00:00, Temp: 12.14°C\n",
      "Time: 2025-04-21 15:00:00, Temp: 11.96°C\n",
      "Time: 2025-04-21 18:00:00, Temp: 12.57°C\n",
      "Time: 2025-04-21 21:00:00, Temp: 12.55°C\n",
      "Time: 2025-04-22 00:00:00, Temp: 11.79°C\n",
      "Time: 2025-04-22 03:00:00, Temp: 11.41°C\n",
      "Time: 2025-04-22 06:00:00, Temp: 11.63°C\n",
      "Time: 2025-04-22 09:00:00, Temp: 11.91°C\n",
      "Time: 2025-04-22 12:00:00, Temp: 14.07°C\n",
      "Time: 2025-04-22 15:00:00, Temp: 18.93°C\n",
      "Time: 2025-04-22 18:00:00, Temp: 21.35°C\n",
      "Time: 2025-04-22 21:00:00, Temp: 22.29°C\n",
      "Time: 2025-04-23 00:00:00, Temp: 19.63°C\n",
      "Time: 2025-04-23 03:00:00, Temp: 15.10°C\n",
      "Time: 2025-04-23 06:00:00, Temp: 12.18°C\n",
      "Time: 2025-04-23 09:00:00, Temp: 10.71°C\n",
      "Time: 2025-04-23 12:00:00, Temp: 11.17°C\n",
      "Time: 2025-04-23 15:00:00, Temp: 15.74°C\n",
      "Time: 2025-04-23 18:00:00, Temp: 20.35°C\n",
      "Time: 2025-04-23 21:00:00, Temp: 21.31°C\n",
      "Time: 2025-04-24 00:00:00, Temp: 19.36°C\n",
      "Time: 2025-04-24 03:00:00, Temp: 17.58°C\n",
      "Time: 2025-04-24 06:00:00, Temp: 16.43°C\n",
      "Time: 2025-04-24 09:00:00, Temp: 15.06°C\n",
      "Time: 2025-04-24 12:00:00, Temp: 14.86°C\n",
      "Time: 2025-04-24 15:00:00, Temp: 17.51°C\n"
     ]
    }
   ],
   "source": [
    "forecast_url = f'http://api.openweathermap.org/data/2.5/forecast?lat={lat}&lon={lon}'\n",
    "forecast_response = requests.get(forecast_url, params=params).json()\n",
    "\n",
    "for entry in forecast_response['list']:\n",
    "    temp_kelvin = entry['main']['temp']    # original temp in Kelvin\n",
    "    temp_celsius = temp_kelvin - 273.15    # convert to Celsius\n",
    "    print(f\"Time: {entry['dt_txt']}, Temp: {temp_celsius:.2f}°C\")"
   ]
  },
  {
   "cell_type": "markdown",
   "id": "f75ab558-7500-40fa-a4aa-93a18053059a",
   "metadata": {},
   "source": [
    "Two calls: one for geocoding, one for forecasts.\n",
    "But with pyowm, because this is a common operation, there is a method that handles the geocoding internally and then fetches the weather forecast in one step.\n",
    "\n",
    "Get the above forecast in a single call using pyowm.\n",
    "\n",
    "Hint: search for \"forecast_at_place\" in the code recipies of the documentation"
   ]
  },
  {
   "cell_type": "code",
   "execution_count": 15,
   "id": "11e3c1a8-260d-467c-8f47-793fd62a239b",
   "metadata": {},
   "outputs": [
    {
     "name": "stdout",
     "output_type": "stream",
     "text": [
      "Time: 2025-04-19 18:00:00+00:00, Temp: 23.96°C\n",
      "Time: 2025-04-19 21:00:00+00:00, Temp: 25.15°C\n",
      "Time: 2025-04-20 00:00:00+00:00, Temp: 24.53°C\n",
      "Time: 2025-04-20 03:00:00+00:00, Temp: 21.58°C\n",
      "Time: 2025-04-20 06:00:00+00:00, Temp: 19.5°C\n",
      "Time: 2025-04-20 09:00:00+00:00, Temp: 15.61°C\n",
      "Time: 2025-04-20 12:00:00+00:00, Temp: 13.48°C\n",
      "Time: 2025-04-20 15:00:00+00:00, Temp: 15.01°C\n",
      "Time: 2025-04-20 18:00:00+00:00, Temp: 17.83°C\n",
      "Time: 2025-04-20 21:00:00+00:00, Temp: 18.55°C\n",
      "Time: 2025-04-21 00:00:00+00:00, Temp: 16.47°C\n",
      "Time: 2025-04-21 03:00:00+00:00, Temp: 14.08°C\n",
      "Time: 2025-04-21 06:00:00+00:00, Temp: 12.61°C\n",
      "Time: 2025-04-21 09:00:00+00:00, Temp: 12.09°C\n",
      "Time: 2025-04-21 12:00:00+00:00, Temp: 12.14°C\n",
      "Time: 2025-04-21 15:00:00+00:00, Temp: 11.96°C\n",
      "Time: 2025-04-21 18:00:00+00:00, Temp: 12.57°C\n",
      "Time: 2025-04-21 21:00:00+00:00, Temp: 12.55°C\n",
      "Time: 2025-04-22 00:00:00+00:00, Temp: 11.79°C\n",
      "Time: 2025-04-22 03:00:00+00:00, Temp: 11.41°C\n",
      "Time: 2025-04-22 06:00:00+00:00, Temp: 11.63°C\n",
      "Time: 2025-04-22 09:00:00+00:00, Temp: 11.91°C\n",
      "Time: 2025-04-22 12:00:00+00:00, Temp: 14.07°C\n",
      "Time: 2025-04-22 15:00:00+00:00, Temp: 18.93°C\n",
      "Time: 2025-04-22 18:00:00+00:00, Temp: 21.35°C\n",
      "Time: 2025-04-22 21:00:00+00:00, Temp: 22.29°C\n",
      "Time: 2025-04-23 00:00:00+00:00, Temp: 19.63°C\n",
      "Time: 2025-04-23 03:00:00+00:00, Temp: 15.1°C\n",
      "Time: 2025-04-23 06:00:00+00:00, Temp: 12.18°C\n",
      "Time: 2025-04-23 09:00:00+00:00, Temp: 10.71°C\n",
      "Time: 2025-04-23 12:00:00+00:00, Temp: 11.17°C\n",
      "Time: 2025-04-23 15:00:00+00:00, Temp: 15.74°C\n",
      "Time: 2025-04-23 18:00:00+00:00, Temp: 20.35°C\n",
      "Time: 2025-04-23 21:00:00+00:00, Temp: 21.31°C\n",
      "Time: 2025-04-24 00:00:00+00:00, Temp: 19.36°C\n",
      "Time: 2025-04-24 03:00:00+00:00, Temp: 17.58°C\n",
      "Time: 2025-04-24 06:00:00+00:00, Temp: 16.43°C\n",
      "Time: 2025-04-24 09:00:00+00:00, Temp: 15.06°C\n",
      "Time: 2025-04-24 12:00:00+00:00, Temp: 14.86°C\n",
      "Time: 2025-04-24 15:00:00+00:00, Temp: 17.51°C\n"
     ]
    }
   ],
   "source": [
    "# Get 3-hour forecast for New York, US\n",
    "forecast = mgr.forecast_at_place(\"New York,US\", \"3h\").forecast\n",
    "\n",
    "# Loop through each forecast entry and print time + temperature\n",
    "for weather in forecast:\n",
    "    print(f\"Time: {weather.reference_time('iso')}, Temp: {weather.temperature('celsius')['temp']}°C\")"
   ]
  },
  {
   "cell_type": "markdown",
   "id": "7ab2b0cc-0d16-4da5-be3e-b8466faecca3",
   "metadata": {},
   "source": [
    "## use case 4: Convenience methods\n",
    "\n",
    "Wrappers often offer built-in methods to handle common kinds of tasks related to the APIs, reducing the need for manual calculations.\n",
    "\n",
    "for example converting units (e.g., temperature from Celsius to Fahrenheit) or working with more complex data requires manual conversion when using the raw API."
   ]
  },
  {
   "cell_type": "code",
   "execution_count": 27,
   "id": "c8e68dad-a503-49cf-9c1e-72e9ed1fab3d",
   "metadata": {},
   "outputs": [
    {
     "name": "stdout",
     "output_type": "stream",
     "text": [
      "Temperature in Celsius: 15.19°C, Fahrenheit: 59.342°F\n"
     ]
    }
   ],
   "source": [
    "params = {\n",
    "    'appid': api_key,\n",
    "    'units': 'metric'\n",
    "}\n",
    "\n",
    "city = 'London,GB'\n",
    "url = f'http://api.openweathermap.org/data/2.5/weather?q={city}&appid={api_key}'\n",
    "\n",
    "response = requests.get(url, params=params)\n",
    "data = response.json()\n",
    "temperature_celsius = data['main']['temp']\n",
    "temperature_fahrenheit = (temperature_celsius * 9/5) + 32\n",
    "\n",
    "print(f\"Temperature in Celsius: {temperature_celsius}°C, Fahrenheit: {temperature_fahrenheit}°F\")"
   ]
  },
  {
   "cell_type": "markdown",
   "id": "9b05658c-e9cb-491d-8554-ab4d6dd56e1d",
   "metadata": {},
   "source": [
    "But the pyowm wrapper offers built-in methods to handle these kinds of tasks, reducing the need for manual calculations.\n",
    "Get the temperature both in Celcius and Farenheit using pyowm. Navigate the code recipes to figure out the inbuilt methods for this."
   ]
  },
  {
   "cell_type": "code",
   "execution_count": 26,
   "id": "4695bb83-bc35-4c1b-b390-5ea2027984ef",
   "metadata": {},
   "outputs": [
    {
     "name": "stdout",
     "output_type": "stream",
     "text": [
      "Temperature in Celsius: 14.86°C, Fahrenheit: 58.75°F\n"
     ]
    }
   ],
   "source": [
    "# Get the weather observation for London\n",
    "observation = mgr.weather_at_place(\"London,GB\")\n",
    "weather = observation.weather\n",
    "\n",
    "# Get the temperature directly in Celsius and Fahrenheit using the wrapper\n",
    "temp_celsius = weather.temperature('celsius')['temp']\n",
    "temp_fahrenheit = weather.temperature('fahrenheit')['temp']\n",
    "\n",
    "# Show results\n",
    "print(f\"Temperature in Celsius: {temp_celsius:.2f}°C, Fahrenheit: {temp_fahrenheit:.2f}°F\")"
   ]
  },
  {
   "cell_type": "code",
   "execution_count": null,
   "id": "8601519f-6896-4639-b1ab-f84c5c66d1e1",
   "metadata": {},
   "outputs": [],
   "source": []
  }
 ],
 "metadata": {
  "kernelspec": {
   "display_name": "Python 3 (ipykernel)",
   "language": "python",
   "name": "python3"
  },
  "language_info": {
   "codemirror_mode": {
    "name": "ipython",
    "version": 3
   },
   "file_extension": ".py",
   "mimetype": "text/x-python",
   "name": "python",
   "nbconvert_exporter": "python",
   "pygments_lexer": "ipython3",
   "version": "3.13.2"
  }
 },
 "nbformat": 4,
 "nbformat_minor": 5
}
